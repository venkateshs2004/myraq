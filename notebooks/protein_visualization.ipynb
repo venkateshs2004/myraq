{
 "cells": [
  {
   "cell_type": "code",
   "execution_count": 1,
   "metadata": {},
   "outputs": [
    {
     "data": {
      "application/3dmoljs_load.v0": "<div id=\"3dmolviewer_17417774882208016\"  style=\"position: relative; width: 640px; height: 480px;\">\n        <p id=\"3dmolwarning_17417774882208016\" style=\"background-color:#ffcccc;color:black\">3Dmol.js failed to load for some reason.  Please check your browser console for error messages.<br></p>\n        </div>\n<script>\n\nvar loadScriptAsync = function(uri){\n  return new Promise((resolve, reject) => {\n    //this is to ignore the existence of requirejs amd\n    var savedexports, savedmodule;\n    if (typeof exports !== 'undefined') savedexports = exports;\n    else exports = {}\n    if (typeof module !== 'undefined') savedmodule = module;\n    else module = {}\n\n    var tag = document.createElement('script');\n    tag.src = uri;\n    tag.async = true;\n    tag.onload = () => {\n        exports = savedexports;\n        module = savedmodule;\n        resolve();\n    };\n  var firstScriptTag = document.getElementsByTagName('script')[0];\n  firstScriptTag.parentNode.insertBefore(tag, firstScriptTag);\n});\n};\n\nif(typeof $3Dmolpromise === 'undefined') {\n$3Dmolpromise = null;\n  $3Dmolpromise = loadScriptAsync('https://cdnjs.cloudflare.com/ajax/libs/3Dmol/2.4.2/3Dmol-min.js');\n}\n\nvar viewer_17417774882208016 = null;\nvar warn = document.getElementById(\"3dmolwarning_17417774882208016\");\nif(warn) {\n    warn.parentNode.removeChild(warn);\n}\n$3Dmolpromise.then(function() {\nviewer_17417774882208016 = $3Dmol.createViewer(document.getElementById(\"3dmolviewer_17417774882208016\"),{backgroundColor:\"white\"});\n$3Dmol.download(\"pdb:1CRN\", viewer_17417774882208016, {}, function() {\nviewer_17417774882208016.zoomTo();\n\tviewer_17417774882208016.setStyle({\"cartoon\": {\"color\": \"spectrum\"}});\n\tviewer_17417774882208016.zoomTo();\nviewer_17417774882208016.render();\n})\n});\n</script>",
      "text/html": [
       "<div id=\"3dmolviewer_17417774882208016\"  style=\"position: relative; width: 640px; height: 480px;\">\n",
       "        <p id=\"3dmolwarning_17417774882208016\" style=\"background-color:#ffcccc;color:black\">3Dmol.js failed to load for some reason.  Please check your browser console for error messages.<br></p>\n",
       "        </div>\n",
       "<script>\n",
       "\n",
       "var loadScriptAsync = function(uri){\n",
       "  return new Promise((resolve, reject) => {\n",
       "    //this is to ignore the existence of requirejs amd\n",
       "    var savedexports, savedmodule;\n",
       "    if (typeof exports !== 'undefined') savedexports = exports;\n",
       "    else exports = {}\n",
       "    if (typeof module !== 'undefined') savedmodule = module;\n",
       "    else module = {}\n",
       "\n",
       "    var tag = document.createElement('script');\n",
       "    tag.src = uri;\n",
       "    tag.async = true;\n",
       "    tag.onload = () => {\n",
       "        exports = savedexports;\n",
       "        module = savedmodule;\n",
       "        resolve();\n",
       "    };\n",
       "  var firstScriptTag = document.getElementsByTagName('script')[0];\n",
       "  firstScriptTag.parentNode.insertBefore(tag, firstScriptTag);\n",
       "});\n",
       "};\n",
       "\n",
       "if(typeof $3Dmolpromise === 'undefined') {\n",
       "$3Dmolpromise = null;\n",
       "  $3Dmolpromise = loadScriptAsync('https://cdnjs.cloudflare.com/ajax/libs/3Dmol/2.4.2/3Dmol-min.js');\n",
       "}\n",
       "\n",
       "var viewer_17417774882208016 = null;\n",
       "var warn = document.getElementById(\"3dmolwarning_17417774882208016\");\n",
       "if(warn) {\n",
       "    warn.parentNode.removeChild(warn);\n",
       "}\n",
       "$3Dmolpromise.then(function() {\n",
       "viewer_17417774882208016 = $3Dmol.createViewer(document.getElementById(\"3dmolviewer_17417774882208016\"),{backgroundColor:\"white\"});\n",
       "$3Dmol.download(\"pdb:1CRN\", viewer_17417774882208016, {}, function() {\n",
       "viewer_17417774882208016.zoomTo();\n",
       "\tviewer_17417774882208016.setStyle({\"cartoon\": {\"color\": \"spectrum\"}});\n",
       "\tviewer_17417774882208016.zoomTo();\n",
       "viewer_17417774882208016.render();\n",
       "})\n",
       "});\n",
       "</script>"
      ]
     },
     "metadata": {},
     "output_type": "display_data"
    }
   ],
   "source": [
    "# Import py3Dmol for protein visualization\n",
    "import py3Dmol\n",
    "\n",
    "# Create a viewer to fetch a protein structure (e.g., PDB id '1CRN')\n",
    "view = py3Dmol.view(query='pdb:1CRN')\n",
    "view.setStyle({'cartoon': {'color': 'spectrum'}})\n",
    "view.zoomTo()\n",
    "view.show()\n"
   ]
  },
  {
   "cell_type": "code",
   "execution_count": null,
   "metadata": {},
   "outputs": [],
   "source": []
  }
 ],
 "metadata": {
  "kernelspec": {
   "display_name": "Python 3 (ipykernel)",
   "language": "python",
   "name": "python3"
  },
  "language_info": {
   "codemirror_mode": {
    "name": "ipython",
    "version": 3
   },
   "file_extension": ".py",
   "mimetype": "text/x-python",
   "name": "python",
   "nbconvert_exporter": "python",
   "pygments_lexer": "ipython3",
   "version": "3.12.9"
  }
 },
 "nbformat": 4,
 "nbformat_minor": 4
}
