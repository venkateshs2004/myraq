{
 "cells": [
  {
   "cell_type": "code",
   "execution_count": null,
   "metadata": {},
   "outputs": [],
   "source": [
    "# Import py3Dmol for protein visualization\n",
    "import py3Dmol\n",
    "\n",
    "# Create a viewer to fetch a protein structure (e.g., PDB id '1CRN')\n",
    "view = py3Dmol.view(query='pdb:1CRN')\n",
    "view.setStyle({'cartoon': {'color': 'spectrum'}})\n",
    "view.zoomTo()\n",
    "view.show()\n"
   ]
  }
 ],
 "metadata": {
  "language_info": {
   "name": "python"
  }
 },
 "nbformat": 4,
 "nbformat_minor": 2
}
