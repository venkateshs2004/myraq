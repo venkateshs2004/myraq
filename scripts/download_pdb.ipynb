{
 "cells": [
  {
   "cell_type": "code",
   "execution_count": 3,
   "id": "e050f0ef-7313-46d5-ba79-47828a86efe4",
   "metadata": {},
   "outputs": [
    {
     "name": "stdout",
     "output_type": "stream",
     "text": [
      "Downloading PDB structure '1crn'...\n",
      "Desired structure doesn't exist\n",
      "Downloaded file: app/data/pdb_files/pdb1crn.ent\n"
     ]
    }
   ],
   "source": [
    "from Bio.PDB import PDBList\n",
    "import os\n",
    "\n",
    "# Define the output directory for PDB files\n",
    "output_dir = os.path.join(\"app/data\", \"pdb_files\")\n",
    "os.makedirs(output_dir, exist_ok=True)\n",
    "\n",
    "pdbl = PDBList()\n",
    "# Retrieve the PDB file for '1CRN'\n",
    "filename = pdbl.retrieve_pdb_file('1CRN', pdir=output_dir, file_format='pdb', overwrite=True)\n",
    "print(\"Downloaded file:\", filename)"
   ]
  },
  {
   "cell_type": "code",
   "execution_count": null,
   "id": "9af87bff-903d-43fe-8443-65da385e535d",
   "metadata": {},
   "outputs": [],
   "source": []
  }
 ],
 "metadata": {
  "kernelspec": {
   "display_name": "Python 3 (ipykernel)",
   "language": "python",
   "name": "python3"
  },
  "language_info": {
   "codemirror_mode": {
    "name": "ipython",
    "version": 3
   },
   "file_extension": ".py",
   "mimetype": "text/x-python",
   "name": "python",
   "nbconvert_exporter": "python",
   "pygments_lexer": "ipython3",
   "version": "3.10.13"
  }
 },
 "nbformat": 4,
 "nbformat_minor": 5
}
